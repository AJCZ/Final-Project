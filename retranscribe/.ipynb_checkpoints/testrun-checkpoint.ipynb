{
 "cells": [
  {
   "cell_type": "code",
   "execution_count": 1,
   "metadata": {
    "collapsed": false
   },
   "outputs": [
    {
     "data": {
      "text/plain": [
       "1628"
      ]
     },
     "execution_count": 1,
     "metadata": {},
     "output_type": "execute_result"
    }
   ],
   "source": [
    "#pip install -U pip\n",
    "#pip install python-docx\n",
    "from docx import Document\n",
    "\n",
    "import os\n",
    "import string\n",
    "from collections import Counter\n",
    "import csv\n",
    "from xlrd import open_workbook\n",
    "workbook = open_workbook('keys.xls')\n",
    "sheet=workbook.sheets()[0]\n",
    "number_of_rows = sheet.nrows\n",
    "keys={}\n",
    "for i in range (0, number_of_rows):\n",
    "    keys[sheet.cell(i,2).value.lower()+', '+sheet.cell(i,1).value.lower()]=sheet.cell(i,0).value\n",
    "\n",
    "files=os.listdir('Transcript')\n",
    "i=2\n",
    "text=''\n",
    "#reading transcripts and converting to lower case words\n",
    "d = Document('Transcript/Abrams, Seymour.docx')\n",
    "\n",
    "for para in d.paragraphs:\n",
    "    text=text+\" \"+para.text\n",
    "\n",
    "text=text.lower()\n",
    "text=text.split(':')\n",
    "\n",
    "#interviewee lastname from distionary\n",
    "ID=int(keys[files[i].split('.')[0].lower()])\n",
    "first=files[i].split('.')[0].split(', ')[1].lower()\n",
    "last=files[i].split('.')[0].split(', ')[0].lower()\n",
    "\n",
    "for i in range(len(text)-1):\n",
    "        if text[i].split(\" \")[-1]==first:\n",
    "            word=text[i]\n",
    "            text[i]=word.replace(first, last)\n",
    "\n",
    "words=\":\".join(text)\n",
    "\n",
    "new=open('Transcript_new/'+str(ID)+'.txt', 'w+')\n",
    "new.write(words)\n",
    "print(words)\n",
    "    \n",
    "\n",
    "\n",
    "\n"
   ]
  }
 ],
 "metadata": {
  "kernelspec": {
   "display_name": "Python 3",
   "language": "python",
   "name": "python3"
  },
  "language_info": {
   "codemirror_mode": {
    "name": "ipython",
    "version": 3
   },
   "file_extension": ".py",
   "mimetype": "text/x-python",
   "name": "python",
   "nbconvert_exporter": "python",
   "pygments_lexer": "ipython3",
   "version": "3.6.0"
  }
 },
 "nbformat": 4,
 "nbformat_minor": 2
}
