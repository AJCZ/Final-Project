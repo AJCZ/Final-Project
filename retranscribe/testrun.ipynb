{
 "cells": [
  {
   "cell_type": "code",
   "execution_count": 2,
   "metadata": {
    "collapsed": false
   },
   "outputs": [
    {
     "name": "stdout",
     "output_type": "stream",
     "text": [
      " elisa: \tgood afternoon. this is elisa martins for the national park service. today is the 17th of september 1994 and i'm in the home of mr. abrams abrams who came from russia in 1923 when he was 9 years old.  mr. abrams, can you start by giving me your full name and your date of birth? abrams: \tmy name is seymour abrams and i am 80 years of age and my name has been changed coming to america. my original name was seymourmour zibritosky and when i came to this country i was adopted by an aunt and uncle and we changed our names, i took their name on. elisa: \twhen were you born? abrams: \t\ti was born february 12th, 1914. elisa:\tdo you remember the town that you came from? do you remember what it looked like? abrams: \tsomewhat, it maybe a little hazy but it was really a village. it’s a city now but it was a village at that time and most of the things i remember was actually the backyard. elisa: \ttell me about the backyard. abrams: \tbecause me being the youngest boy and very active, they always shot me in the backyard to play, wanting to get me out of the house. so the things i remember in that area was they had a lot of community work. they'd bake bread and when they bake bread it was for the community and there a lot of the certain amount of bread for each family based on how many people in the family.  i remember about the house, that we had the dark furniture in the living room that had little holes in it and i thought it was a decoration but it most likely was termites or something that ate the wood up. elisa: \tdo you remember what your house was made out of -the outside? abrams: \t\tit was made out.....\n"
     ]
    }
   ],
   "source": [
    "#pip install -U pip\n",
    "#pip install python-docx\n",
    "from docx import Document\n",
    "\n",
    "import os\n",
    "import string\n",
    "from collections import Counter\n",
    "import csv\n",
    "from xlrd import open_workbook\n",
    "workbook = open_workbook('keys.xls')\n",
    "sheet=workbook.sheets()[0]\n",
    "number_of_rows = sheet.nrows\n",
    "keys={}\n",
    "for i in range (0, number_of_rows):\n",
    "    keys[sheet.cell(i,2).value.lower()+', '+sheet.cell(i,1).value.lower()]=sheet.cell(i,0).value\n",
    "\n",
    "files=os.listdir('Transcript')\n",
    "i=2\n",
    "text=''\n",
    "#reading transcripts and converting to lower case words\n",
    "d = Document('Transcript/Abrams, Seymour.docx')\n",
    "\n",
    "for para in d.paragraphs:\n",
    "    text=text+\" \"+para.text\n",
    "\n",
    "text=text.lower()\n",
    "text=text.split(':')\n",
    "\n",
    "#interviewee lastname from distionary\n",
    "ID=int(keys[files[i].split('.')[0].lower()])\n",
    "first=files[i].split('.')[0].split(', ')[1].lower()\n",
    "last=files[i].split('.')[0].split(', ')[0].lower()\n",
    "\n",
    "for i in range(len(text)-1):\n",
    "        if text[i].split(\" \")[-1]==first:\n",
    "            word=text[i]\n",
    "            text[i]=word.replace(first, last)\n",
    "\n",
    "words=\":\".join(text)\n",
    "\n",
    "new=open('Transcript_new/'+str(ID)+'.txt', 'w+')\n",
    "new.write(words)\n",
    "print(words)\n",
    "    \n",
    "\n",
    "\n",
    "\n"
   ]
  }
 ],
 "metadata": {
  "kernelspec": {
   "display_name": "Python 3",
   "language": "python",
   "name": "python3"
  },
  "language_info": {
   "codemirror_mode": {
    "name": "ipython",
    "version": 3
   },
   "file_extension": ".py",
   "mimetype": "text/x-python",
   "name": "python",
   "nbconvert_exporter": "python",
   "pygments_lexer": "ipython3",
   "version": "3.6.0"
  }
 },
 "nbformat": 4,
 "nbformat_minor": 2
}
