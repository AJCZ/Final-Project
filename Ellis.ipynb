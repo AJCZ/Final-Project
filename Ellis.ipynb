{
 "cells": [
  {
   "cell_type": "code",
   "execution_count": 816,
   "metadata": {
    "collapsed": false
   },
   "outputs": [],
   "source": [
    "import string\n",
    "contractions = { \n",
    "\"ain't\": \"am not; are not; is not; has not; have not\",\n",
    "\"aren't\": \"are not; am not\",\n",
    "\"can't\": \"cannot\",\n",
    "\"can't've\": \"cannot have\",\n",
    "\"'cause\": \"because\",\n",
    "\"could've\": \"could have\",\n",
    "\"couldn't\": \"could not\",\n",
    "\"couldn't've\": \"could not have\",\n",
    "\"didn't\": \"did not\",\n",
    "\"doesn't\": \"does not\",\n",
    "\"don't\": \"do not\",\n",
    "\"hadn't\": \"had not\",\n",
    "\"hadn't've\": \"had not have\",\n",
    "\"hasn't\": \"has not\",\n",
    "\"haven't\": \"have not\",\n",
    "\"he'd\": \"he had / he would\",\n",
    "\"he'd've\": \"he would have\",\n",
    "\"he'll\": \"he shall / he will\",\n",
    "\"he'll've\": \"he shall have / he will have\",\n",
    "\"he's\": \"he has / he is\",\n",
    "\"how'd\": \"how did\",\n",
    "\"how'd'y\": \"how do you\",\n",
    "\"how'll\": \"how will\",\n",
    "\"how's\": \"how has / how is / how does\",\n",
    "\"i'd\": \"i had / i would\",\n",
    "\"i'd've\": \"i would have\",\n",
    "\"i'll\": \"i shall / i will\",\n",
    "\"i'll've\": \"i shall have / i will have\",\n",
    "\"i'm\": \"i am\",\n",
    "\"i've\": \"i have\",\n",
    "\"isn't\": \"is not\",\n",
    "\"it'd\": \"it had / it would\",\n",
    "\"it'd've\": \"it would have\",\n",
    "\"it'll\": \"it shall / it will\",\n",
    "\"it'll've\": \"it shall have / it will have\",\n",
    "\"it's\": \"it has / it is\",\n",
    "\"let's\": \"let us\",\n",
    "\"ma'am\": \"madam\",\n",
    "\"mayn't\": \"may not\",\n",
    "\"might've\": \"might have\",\n",
    "\"mightn't\": \"might not\",\n",
    "\"mightn't've\": \"might not have\",\n",
    "\"must've\": \"must have\",\n",
    "\"mustn't\": \"must not\",\n",
    "\"mustn't've\": \"must not have\",\n",
    "\"needn't\": \"need not\",\n",
    "\"needn't've\": \"need not have\",\n",
    "\"o'clock\": \"of the clock\",\n",
    "\"oughtn't\": \"ought not\",\n",
    "\"oughtn't've\": \"ought not have\",\n",
    "\"shan't\": \"shall not\",\n",
    "\"sha'n't\": \"shall not\",\n",
    "\"shan't've\": \"shall not have\",\n",
    "\"she'd\": \"she had / she would\",\n",
    "\"she'd've\": \"she would have\",\n",
    "\"she'll\": \"she shall / she will\",\n",
    "\"she'll've\": \"she shall have / she will have\",\n",
    "\"she's\": \"she has / she is\",\n",
    "\"should've\": \"should have\",\n",
    "\"shouldn't\": \"should not\",\n",
    "\"shouldn't've\": \"should not have\",\n",
    "\"so've\": \"so have\",\n",
    "\"so's\": \"so as / so is\",\n",
    "\"that'd\": \"that would / that had\",\n",
    "\"that'd've\": \"that would have\",\n",
    "\"that's\": \"that has / that is\",\n",
    "\"there'd\": \"there had / there would\",\n",
    "\"there'd've\": \"there would have\",\n",
    "\"there's\": \"there has / there is\",\n",
    "\"they'd\": \"they had / they would\",\n",
    "\"they'd've\": \"they would have\",\n",
    "\"they'll\": \"they shall / they will\",\n",
    "\"they'll've\": \"they shall have / they will have\",\n",
    "\"they're\": \"they are\",\n",
    "\"they've\": \"they have\",\n",
    "\"to've\": \"to have\",\n",
    "\"wasn't\": \"was not\",\n",
    "\"we'd\": \"we had / we would\",\n",
    "\"we'd've\": \"we would have\",\n",
    "\"we'll\": \"we will\",\n",
    "\"we'll've\": \"we will have\",\n",
    "\"we're\": \"we are\",\n",
    "\"we've\": \"we have\",\n",
    "\"weren't\": \"were not\",\n",
    "\"what'll\": \"what shall / what will\",\n",
    "\"what'll've\": \"what shall have / what will have\",\n",
    "\"what're\": \"what are\",\n",
    "\"what's\": \"what has / what is\",\n",
    "\"what've\": \"what have\",\n",
    "\"when's\": \"when has / when is\",\n",
    "\"when've\": \"when have\",\n",
    "\"where'd\": \"where did\",\n",
    "\"where's\": \"where has / where is\",\n",
    "\"where've\": \"where have\",\n",
    "\"who'll\": \"who shall / who will\",\n",
    "\"who'll've\": \"who shall have / who will have\",\n",
    "\"who's\": \"who has / who is\",\n",
    "\"who've\": \"who have\",\n",
    "\"why's\": \"why has / why is\",\n",
    "\"why've\": \"why have\",\n",
    "\"will've\": \"will have\",\n",
    "\"won't\": \"will not\",\n",
    "\"won't've\": \"will not have\",\n",
    "\"would've\": \"would have\",\n",
    "\"wouldn't\": \"would not\",\n",
    "\"wouldn't've\": \"would not have\",\n",
    "\"y'all\": \"you all\",\n",
    "\"y'all'd\": \"you all would\",\n",
    "\"y'all'd've\": \"you all would have\",\n",
    "\"y'all're\": \"you all are\",\n",
    "\"y'all've\": \"you all have\",\n",
    "\"you'd\": \"you had / you would\",\n",
    "\"you'd've\": \"you would have\",\n",
    "\"you'll\": \"you shall / you will\",\n",
    "\"you'll've\": \"you shall have / you will have\",\n",
    "\"you're\": \"you are\",\n",
    "\"you've\": \"you have\"\n",
    "}\n",
    "punct=set(string.punctuation)"
   ]
  },
  {
   "cell_type": "code",
   "execution_count": 817,
   "metadata": {
    "collapsed": true
   },
   "outputs": [],
   "source": [
    "text = open ('1.txt', 'r+').read().lower()"
   ]
  },
  {
   "cell_type": "code",
   "execution_count": 818,
   "metadata": {
    "collapsed": false
   },
   "outputs": [],
   "source": [
    "words = text.split(\"gumb:\")"
   ]
  },
  {
   "cell_type": "code",
   "execution_count": 819,
   "metadata": {
    "collapsed": false
   },
   "outputs": [],
   "source": [
    "del words[0]"
   ]
  },
  {
   "cell_type": "code",
   "execution_count": 820,
   "metadata": {
    "collapsed": false
   },
   "outputs": [],
   "source": [
    "words = \"gumb:\".join(words).split(\"abrams:\")\n",
    "wordsclean=[]"
   ]
  },
  {
   "cell_type": "code",
   "execution_count": 821,
   "metadata": {
    "collapsed": false
   },
   "outputs": [],
   "source": [
    "for i in range(len(words)):\n",
    "    wordsclean.append(words[i].split(\"gumb:\")[0])"
   ]
  },
  {
   "cell_type": "code",
   "execution_count": 822,
   "metadata": {
    "collapsed": false
   },
   "outputs": [],
   "source": [
    "words=[]\n",
    "for i in range(len(wordsclean)):\n",
    "    if i%2==1:\n",
    "        words.append(wordsclean[i])"
   ]
  },
  {
   "cell_type": "code",
   "execution_count": 823,
   "metadata": {
    "collapsed": false
   },
   "outputs": [],
   "source": [
    "for i in range(len(words)):\n",
    "    words[i]=words[i].strip() "
   ]
  },
  {
   "cell_type": "code",
   "execution_count": 824,
   "metadata": {
    "collapsed": false
   },
   "outputs": [],
   "source": [
    "text = \" \".join(words)\n",
    "\n",
    "text=text.replace(\"'\",\"97401\")\n",
    "textclean=''.join(x for x in text if x not in punct)\n",
    "text=textclean.strip()\n",
    "\n",
    "text=text.replace(\"97401\",\"'\")\n",
    "words=text.split(\" \")\n",
    "for i in range (len(words)):\n",
    "    if words[i] in contractions:\n",
    "        words[i]=contractions[words[i]]\n",
    "        words[i]=words[i].strip()\n",
    "\n",
    "text = \" \".join(words)"
   ]
  },
  {
   "cell_type": "code",
   "execution_count": 825,
   "metadata": {
    "collapsed": false
   },
   "outputs": [],
   "source": [
    "text=''.join([x for x in text if not x.isdigit()])\n",
    "\n",
    "wordsnew=[]\n",
    "words=text.split(\" \")\n",
    "for i in range (len(words)):\n",
    "    if words[i]!='':\n",
    "        wordsnew.append(words[i])\n",
    "        \n",
    "text=' '.join(wordsnew)"
   ]
  },
  {
   "cell_type": "code",
   "execution_count": 826,
   "metadata": {
    "collapsed": false
   },
   "outputs": [],
   "source": [
    "textclean=''.join(x for x in text if x not in punct)\n",
    "text=textclean.strip()"
   ]
  },
  {
   "cell_type": "code",
   "execution_count": null,
   "metadata": {
    "collapsed": false
   },
   "outputs": [],
   "source": [
    "saveforlater=text"
   ]
  },
  {
   "cell_type": "code",
   "execution_count": 827,
   "metadata": {
    "collapsed": false
   },
   "outputs": [],
   "source": [
    "##taking out stop words for single words analysis"
   ]
  },
  {
   "cell_type": "code",
   "execution_count": 828,
   "metadata": {
    "collapsed": true
   },
   "outputs": [],
   "source": [
    "import nltk\n",
    "from nltk.corpus import stopwords"
   ]
  },
  {
   "cell_type": "code",
   "execution_count": 829,
   "metadata": {
    "collapsed": false
   },
   "outputs": [
    {
     "name": "stdout",
     "output_type": "stream",
     "text": [
      "[nltk_data] Downloading package stopwords to\n",
      "[nltk_data]     /Users/zhangjiwei/nltk_data...\n",
      "[nltk_data]   Package stopwords is already up-to-date!\n"
     ]
    },
    {
     "data": {
      "text/plain": [
       "True"
      ]
     },
     "execution_count": 829,
     "metadata": {},
     "output_type": "execute_result"
    }
   ],
   "source": [
    "nltk.download(\"stopwords\")"
   ]
  },
  {
   "cell_type": "code",
   "execution_count": 830,
   "metadata": {
    "collapsed": false
   },
   "outputs": [],
   "source": [
    "stop = set(stopwords.words('english'))"
   ]
  },
  {
   "cell_type": "code",
   "execution_count": 831,
   "metadata": {
    "collapsed": false
   },
   "outputs": [],
   "source": [
    "text=text.split(\" \")\n",
    "text=[x for x in text if x!=\"\"]"
   ]
  },
  {
   "cell_type": "code",
   "execution_count": 832,
   "metadata": {
    "collapsed": false
   },
   "outputs": [],
   "source": [
    "textclean=' '.join(x for x in text if x not in stop)"
   ]
  },
  {
   "cell_type": "code",
   "execution_count": 833,
   "metadata": {
    "collapsed": false
   },
   "outputs": [
    {
     "data": {
      "text/plain": [
       "'arrived born russia small town contained mean small town period uh largest city near town city called slonim slonim slonim town slonim city great learning great know yeshiva know uh yes res give later shall give put sounds resh shall give right spelling left begin father came country beginning going america came first earn money sent sent uh passage cards us know passage tickets went went america went uh stopped city slonim course uncle living see wanted us stay little went left antwerp ship took us rotterdam american sic probably hollandamerica line liner time see got ship know went america course course time people said oh going going golden medina know medina golden golden land know know land gold well right rate took us took us sixteen days get see one slow ships got america course landed ellis island father came ellis island take take us uh take us home see whatever whatever asking whether remember anything kind could remember youngster see besides whole whole thing entirely proportion town place came came town little mean small town small one small towns came well could earn enough money mean know well yes well problem flour mill try make ground grind flour hand whatever case may cannot get far idea mean small small business uh left father see grandfather see father grandfather originally goes back even back know many goes back uh decided come america yes jewish town also also nonjewish living see nonjews way people ask many times learned speak russian said fact people living spoke different dialect altogether see mean altogether different dialogue see spoke something russian laughs know goes back years yiddish yiddish yiddish nothing else yiddish know yiddish talk yiddish understand yiddish yes delancey street left well nine half seven seven eight something around seven yes seven well look young man stay getting anywhere least enough courage able get go away see mean decided use staying went america see whether could better family staying small town see course time little bit boy see lot things consult whether wants go see spoke mother said going away see went discuss matters like running around know mean well poor yeah poor people poor yes know got along way left america sent money mother able better money sent able used buy things get along see course aunt living town know used go see mean got along fact fact shows right see least good beginning tell thing want see want impression ellis island could give see know little boy probably hanging onto mothers skirt something hand holding came yes oh yes yes tickets know uh called used call shifcanten whatever tickets tickets know passage passage uh cards like get buy airplane tickets ticket ship able get ship forget russia saw russia horses pulling wagons talking fact russia course youngster could boy three years old started go school know go stay listen rabbis teach teach go home like today youngsters go matter age take carriages see world time altogether different yes yeah sure sure train went city slonim see slonim fifty miles maybe ore see go train see got stayed stayed uncle us train went antwerp heard antwerp uh ship left antwerp heard antwerp belgium believe oh yes family members traveling together oh yes oh yes family went mother sister see stayed together course people knew naturally talked going know together right took long time get matter got thing like everything else go away place want go want go away conditions want better naturally talking one went aunt one went sister one went somebody else come came ellis island take home see course impression ellis island could tell much know came sit wait called us called us want asked questions born gave gave dates yiddish translated call yiddish english man desk put right right right dates born way well never asked us mean see asked father mother know far asking anything ellis island staying near mother waiting father go formalities admitted admitting us course already admitting us united states took horse horse carriage whatever waiting know cross cross bay ellis island far got battery know course lot horses carriages hired horse carriage took us home remember riding broadway days signs lit gas know novelty know mean coming laughs town size peanut sudden come metropolis people noise excitement greatest thing greatest arrived december new years eve excitement noise something well put put place youngster nine half years old sudden everything quiet nothing sudden come place people especially new years eve know yell kinds whatever new years eve days used used firecrackers noise remember see yes course course see know know lot noise lot excitement course got older father explained new years eve also th th century past th century way th see long far away th fourteen years see also want tell year president mckinley remember president mckinley elected president theodore roosevelt vicepresident year later remember killed shot assassinated buffalo course first lot excitement see know theodore roosevelt took job took mean became took presidency uh elected president know hear written book history united states read became president started wanted make reforms united states time railroad industry hands people see people like like something like like rockefeller oil company one controlled companies ordered courts break see time theodore roosevelt wanted railroad monopoly monopoly break free freer freer freer way handling things way warned said insist upon us trying break companies close railroads suppose know panic maybe history panic time railroads shut people walking streets trying find work ended course uh bridge sighs yes go ahead laughs well honest remember know whatever gave us eat good mean food right everything right mean assure assure one thing get steaks anything else kind food know breakfast probably whatever even remember gave us breakfast honest lunch dinner know breakfast time came went stand around big table mother sister gave plate see remember ate tell one thing whatever ate must good otherwise good would see see hard remember many people one area see mean better accommodations higher probably cost money see idea yes like like greatgranddaughter susan shall read paper little girl eight years old see god thing know see mean living different world goes school school even went even went grammar school still today see mean goes different see mean mean even fifty years forty years country get entire outlook changes talk want give instance talk airplanes years comic books wish god saved one know one comic books man whoever published showed showed cover page flying machine shall never forget somehow always mind showed picture flying machine similar see airplanes today long man vision someday going flying machines came country began read learn english came could read word english went grammar school know especially youngster wants learn wants listen course learn english able read well well sure sure must examined see remember explicitly could never remember question mind would admit anybody without examining see see remember reason probably got hold looked probably whatever probably saw right away youngster bright eyes eyes head hair hands said okay go ahead see sick would different story would course would wait examined well healthy boy proof pudding see otherwise would healthy young surely get healthy get older realize know see know old thirty well thirty years old born almost everything probably computers one thing another thing otherwise almost everything want everything mean much mean absolutely everything see mean uh flying call uh shuttles going moon think thirty years ago beginning develop think devil rush get moon could see even yet could waited little longer everything people want everything right away know reason mention great catastrophe happened recently know terrible terrible thing yes right long well tell could tell streets full people people walking sidewalks even good sidewalks time make new ones make delancey street street business stores time end years went fixed everything built uh horse cars running delancey street see right middle street horse car finally abandoned gave made sort like walk people still know middle street still think still sure maybe know think think still wide street purposely way nice one main streets time see delancey street one main streets next one good shopping street grand street broome street residential see store stores delancey street every store business beginning end thing grand street also stores kept growing naturally became older saw things little different couple years course moved away live time see used live moved broome street norfolk know moved around hard uh describe exactly simply moved finally moved williamsburg brooklyn see lived time fact lived long lived long time become citizen well wanted citizen united states anything special uh special things came vote cannot vote citizen see mean uh actually uh came year able twentyone think twentyone eighteen nineteen necessary telling go get citizen papers got ask questions write read well fortunately able read write laughs well huh remember special classes might class begin maybe maybe said done teacher would talk english right away might class get started get know get begin know might talk yiddish translate english little little catch get write things got write got read gradually part teachers job see teach uh see uh good boy went tell well could course wanted see wanted learn english see would go educational alliance knew spoke yiddish english better right thing tell better way ever hear well show well anyhow watch twice make difference ed asner managing editor editor managing editor son managing editor could see walk around mason goes name mason adams probably see see tv see hear hear commercials air see'"
      ]
     },
     "execution_count": 833,
     "metadata": {},
     "output_type": "execute_result"
    }
   ],
   "source": [
    "textclean"
   ]
  },
  {
   "cell_type": "code",
   "execution_count": null,
   "metadata": {
    "collapsed": true
   },
   "outputs": [],
   "source": []
  }
 ],
 "metadata": {
  "kernelspec": {
   "display_name": "Python 3",
   "language": "python",
   "name": "python3"
  },
  "language_info": {
   "codemirror_mode": {
    "name": "ipython",
    "version": 3
   },
   "file_extension": ".py",
   "mimetype": "text/x-python",
   "name": "python",
   "nbconvert_exporter": "python",
   "pygments_lexer": "ipython3",
   "version": "3.6.0"
  }
 },
 "nbformat": 4,
 "nbformat_minor": 2
}
