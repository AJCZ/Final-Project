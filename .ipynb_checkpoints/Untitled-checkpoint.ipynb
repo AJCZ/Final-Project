{
 "cells": [
  {
   "cell_type": "code",
   "execution_count": null,
   "metadata": {
    "collapsed": true
   },
   "outputs": [],
   "source": [
    "temp=['first', \"first\", \"ellis\"]\n",
    "snowball=['i', 'me', 'my', 'myself', 'we', 'us', 'our', 'ourselves', 'ours', 'you', 'your', 'yours', 'yourself', 'yourselves', 'he', 'him', 'his', 'himself', 'she', 'her', 'hers', 'herself', 'it', 'its', 'itself', 'they', 'them', 'their', 'theirs', 'themselves', 'what', 'which', 'who', 'whom', 'this', 'that', 'these', 'those', 'am', 'is', 'are', 'was', 'were', 'be', 'been', 'being', 'have', 'has', 'had', 'having', 'do', 'does', 'did', 'doing', 'will', 'would', 'should', 'could', 'ought', \"i'm\", \"you're\", \"he's\", \"she's\", \"it's\", \"we're\", \"they're\", \"i've\", \"you've\", \"we've\", \"they've\", \"i'd\", \"you'd\", \"he'd\", \"she'd\", \"we'd\", \"they'd\", \"i'll\", \"you'll\", \"he'll\", \"she'll\", \"we'll\", \"they'll\", \"isn't\", \"wasn't\", \"weren't\", \"hasn't\", \"haven't\", \"hadn't\", \"doesn't\", \"don't\", \"didn't\", \"won't\", \"wouldn't\", \"shan't\", \"shouldn't\", \"can't\", \"cannot\", \"couldn't\", \"mustn't\", \"let's\", \"that's\", \"who's\", \"what's\", \"here's\", \"there's\", \"when's\", \"where's\", \"why's\", \"how's\", \"daren't\", \"needn't\", \"oughtn't\", \"mightn't\", \"a\", \"an\", \"the\", \"etc\", \"and\", \"but\", \"if\", \"or\", \"because\", \"as\", \"until\", \"while\", \"of\", \"at\", \"by\", \"for\", \"with\", \"about\", \"against\", \"between\", \"into\", \"during\", \"through\", \"before\", \"after\", \"above\", \"below\", \"to\", \"from\", \"up\", \"down\", \"in\", \"out\", \"on\", \"off\", \"over\", \"under\", \"again\", \"further\", \"then\", \"once\", \"here\", \"there\", \"when\", \"where\", \"where\", \"why\", \"how\", \"all\", \"any\", \"both\", \"each\", \"few\", \"more\", \"most\", \"other\", \"some\", \"such\", \"no\", \"not\", \"nor\", \"only\", \"own\", \"same\", \"so\", \"than\", \"too\", \"very\", \"one\", \"every\", \"least\", \"less\", \"many\", \"now\", \"ever\", \"never\", \"say\", \"says\", \"said\", \"also\", \"get\", \"go\", \"goes\", \"just\", \"made\", \"make\", \"put\", \"see\", \"seen\", \"whether\", \"like\", \"well\", \"back\", \"even\", \"still\", \"way\", \"take\", \"since\", \"another\", \"however\", \"two\", \"three\", \"four\", \"five\", \"first\", \"second\", \"new\", \"old\", \"high\", \"long\"]\n",
    "temp=[x for x in temp if x not in snowball]\n",
    "print(temp)\n"
   ]
  }
 ],
 "metadata": {
  "kernelspec": {
   "display_name": "Python 3",
   "language": "python",
   "name": "python3"
  },
  "language_info": {
   "codemirror_mode": {
    "name": "ipython",
    "version": 3
   },
   "file_extension": ".py",
   "mimetype": "text/x-python",
   "name": "python",
   "nbconvert_exporter": "python",
   "pygments_lexer": "ipython3",
   "version": "3.6.0"
  }
 },
 "nbformat": 4,
 "nbformat_minor": 2
}
