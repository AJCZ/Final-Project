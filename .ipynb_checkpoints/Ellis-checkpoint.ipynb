{
 "cells": [
  {
   "cell_type": "code",
   "execution_count": 290,
   "metadata": {
    "collapsed": false
   },
   "outputs": [],
   "source": [
    "import pandas as pd\n",
    "import string"
   ]
  },
  {
   "cell_type": "code",
   "execution_count": 291,
   "metadata": {
    "collapsed": true
   },
   "outputs": [],
   "source": [
    "text = open ('1.txt', 'r+').read().lower()"
   ]
  },
  {
   "cell_type": "code",
   "execution_count": 292,
   "metadata": {
    "collapsed": false
   },
   "outputs": [],
   "source": [
    "words = text.split(\"gumb:\")"
   ]
  },
  {
   "cell_type": "code",
   "execution_count": 293,
   "metadata": {
    "collapsed": false
   },
   "outputs": [],
   "source": [
    "del words[0]"
   ]
  },
  {
   "cell_type": "code",
   "execution_count": 294,
   "metadata": {
    "collapsed": false
   },
   "outputs": [],
   "source": [
    "words = \"gumb:\".join(words).split(\"abrams:\")\n",
    "wordsclean=[]"
   ]
  },
  {
   "cell_type": "code",
   "execution_count": 295,
   "metadata": {
    "collapsed": false
   },
   "outputs": [],
   "source": [
    "for i in range(len(words)):\n",
    "    wordsclean.append(words[i].split(\"gumb:\")[0])"
   ]
  },
  {
   "cell_type": "code",
   "execution_count": 296,
   "metadata": {
    "collapsed": false
   },
   "outputs": [],
   "source": [
    "words=[]\n",
    "for i in range(len(wordsclean)):\n",
    "    if i%2==1:\n",
    "        words.append(wordsclean[i])"
   ]
  },
  {
   "cell_type": "code",
   "execution_count": 297,
   "metadata": {
    "collapsed": false
   },
   "outputs": [],
   "source": [
    "for i in range(len(words)):\n",
    "    words[i]=words[i].strip()\n"
   ]
  },
  {
   "cell_type": "code",
   "execution_count": 298,
   "metadata": {
    "collapsed": false
   },
   "outputs": [],
   "source": [
    "text = \" \".join(words)"
   ]
  },
  {
   "cell_type": "code",
   "execution_count": 299,
   "metadata": {
    "collapsed": false
   },
   "outputs": [],
   "source": [
    "text=text.replace(\"\\'\",'')"
   ]
  },
  {
   "cell_type": "code",
   "execution_count": 300,
   "metadata": {
    "collapsed": false
   },
   "outputs": [],
   "source": [
    "punct=set(string.punctuation)"
   ]
  },
  {
   "cell_type": "code",
   "execution_count": 301,
   "metadata": {
    "collapsed": false
   },
   "outputs": [],
   "source": [
    "textclean=''.join(x for x in text if x not in punct)"
   ]
  },
  {
   "cell_type": "code",
   "execution_count": 302,
   "metadata": {
    "collapsed": false
   },
   "outputs": [],
   "source": [
    "text=textclean.strip()\n",
    "text=''.join([x for x in text if not x.isdigit()])"
   ]
  },
  {
   "cell_type": "code",
   "execution_count": 303,
   "metadata": {
    "collapsed": true
   },
   "outputs": [],
   "source": [
    "import nltk\n",
    "from nltk.corpus import stopwords"
   ]
  },
  {
   "cell_type": "code",
   "execution_count": 304,
   "metadata": {
    "collapsed": false
   },
   "outputs": [
    {
     "name": "stdout",
     "output_type": "stream",
     "text": [
      "[nltk_data] Downloading package stopwords to\n",
      "[nltk_data]     /Users/zhangjiwei/nltk_data...\n",
      "[nltk_data]   Package stopwords is already up-to-date!\n"
     ]
    },
    {
     "data": {
      "text/plain": [
       "True"
      ]
     },
     "execution_count": 304,
     "metadata": {},
     "output_type": "execute_result"
    }
   ],
   "source": [
    "nltk.download(\"stopwords\")"
   ]
  },
  {
   "cell_type": "code",
   "execution_count": 305,
   "metadata": {
    "collapsed": false
   },
   "outputs": [],
   "source": [
    "stop = set(stopwords.words('english'))"
   ]
  },
  {
   "cell_type": "code",
   "execution_count": 306,
   "metadata": {
    "collapsed": false
   },
   "outputs": [],
   "source": [
    "text=text.split(\" \")\n",
    "text=[x for x in text if x!=\"\"]"
   ]
  },
  {
   "cell_type": "code",
   "execution_count": 307,
   "metadata": {
    "collapsed": false
   },
   "outputs": [],
   "source": [
    "textclean=' '.join(x for x in text if x not in stop)"
   ]
  },
  {
   "cell_type": "code",
   "execution_count": 308,
   "metadata": {
    "collapsed": false
   },
   "outputs": [
    {
     "data": {
      "text/plain": [
       "'arrived born russia small town contained mean small town period uh largest city near town city called slonim slonim slonim town slonim city great learning great know yeshiva know uh yes res give later ill give put sounds resh ill give right spelling left begin father came country thats beginning going america came first earn money sent sent uh passage cards us know passage tickets went went america went uh stopped city slonim course uncle living see wanted us stay little went left antwerp thats ship took us rotterdam american sic probably hollandamerica line liner time see got ship know went america course course time people said oh youre going youre going golden medina know medina golden golden land know know land gold well right rate took us took us sixteen days get see one slow ships got america course landed ellis island father came ellis island take take us uh take us home see whatever whatever youre asking whether remember anything kind couldnt remember youngster see besides whole whole thing entirely proportion town place came came town little mean small town small one small towns came well couldnt earn enough money thats mean know well yes well problem flour mill try make ground grind flour hand whatever case may cant get far thats idea mean small small business uh left father see grandfather see father grandfather originally goes back even back dont know many goes back thats uh decided come america thats yes jewish town also also nonjewish living see nonjews way people ask many times learned speak russian said fact people living spoke different dialect altogether see mean altogether different dialogue see spoke something wasnt russian wasnt laughs dont know goes back years yiddish yiddish yiddish nothing else yiddish know yiddish talk yiddish understand yiddish yes delancey street left well nine half seven seven eight something around seven yes seven well look young man stay getting anywhere least enough courage able get go away see thats mean decided theres use staying went america see whether couldnt better family staying small town see course time little bit boy see didnt lot things didnt consult whether wants go see spoke mother said hes going away thats see went didnt didnt discuss matters like running around know mean well poor yeah poor people poor yes know got along way left america sent money mother able better money sent able used buy things get along see course aunt living town know used go see mean got along fact fact im shows right see least good beginning tell thing want see want impression ellis island couldnt give see know little boy probably hanging onto mothers skirt something hand holding came thats yes oh yes yes tickets know uh called used call shifcanten whatever tickets thats tickets know passage passage uh cards like get buy airplane tickets ticket ship able get ship thats forget russia saw russia horses pulling wagons thats talking fact russia course youngster dont dont could boy three years old started go school know go stay listen rabbis teach teach go home thats isnt like today youngsters go matter age take carriages see world time altogether different yes yeah sure sure train went city slonim see slonim fifty miles maybe ore see go train see got stayed stayed uncle us train went antwerp heard antwerp thats uh ship left antwerp heard antwerp belgium believe oh yes family members traveling together oh yes oh yes family went mother sister see stayed together course people knew naturally talked going know theyre together right took long time get didnt matter got thats thats thing like everything else go away place youre want go want go away conditions want better naturally talking one went aunt one went sister one went somebody else come came ellis island take home see course impression ellis island could tell much know came sit wait called us called us want asked questions born gave gave dates yiddish translated call yiddish english man desk put right right right dates born thats way well never asked us mean see asked father mother know far asking anything ellis island staying near mother waiting father go formalities admitted admitting us course already admitting us united states took horse horse carriage whatever waiting know cross cross bay ellis island far got battery dont know course lot horses carriages hired horse carriage took us home thats remember riding broadway days signs lit gas know novelty know mean im coming laughs town size peanut sudden come metropolis people noise excitement greatest thing greatest arrived december new years eve excitement noise something well put put place youngster nine half years old sudden everything quiet nothing sudden come place people especially new years eve know yell kinds whatever new years eve days used used firecrackers noise remember see yes course course see dont know know lot noise lot excitement course got older father explained new years eve also th th century past th century way th see long far away th fourteen years well see thats also want tell year president mckinley remember president mckinley elected president theodore roosevelt vicepresident year later remember killed shot assassinated buffalo course first lot excitement see know theodore roosevelt took job took mean became took presidency uh elected president dont know hear written book history united states read became president started wanted make reforms united states time railroad industry hands people see people like like something like like rockefeller oil company one controlled companies ordered courts break see time thats theodore roosevelt wanted railroad monopoly thats monopoly break free freer freer freer way handling things way warned said insist upon us trying break companies well close railroads thats suppose dont know panic maybe history panic time railroads shut people walking streets trying find work thats ended course uh bridge sighs yes go ahead laughs well honest dont remember know whatever gave us eat good mean food right everything right mean assure assure one thing didnt get steaks anything else kind food know breakfast probably whatever dont even remember gave us breakfast honest lunch dinner know breakfast time came went stand around big table mother sister gave plate see remember ate tell one thing whatever ate must good im otherwise wasnt good wouldnt see see hard remember many people one area see mean better accommodations higher probably cost money see thats idea whats yes wasnt like like greatgranddaughter susan youll read paper little girl shes eight years old see god isnt thing doesnt know see mean shes shes shes living different world goes school thats school even went even went grammar school still wasnt today see mean goes different see mean dont mean even fifty years forty years country get youre entire outlook changes talk want give instance talk airplanes years comic books wish god saved one know one comic books man whoever published showed showed cover page flying machine ill never forget somehow thats always mind showed picture flying machine similar see airplanes today long man vision someday theres going flying machines came country began read learn english came couldnt read word english went grammar school know especially youngster wants learn wants listen course learn english youre able read well well im sure im sure must examined see remember explicitly could never remember theres question mind wouldnt admit anybody without examining see see dont remember reason probably got hold looked probably whatever probably saw right away youngster bright eyes eyes head hair hands said okay go ahead thats see sick would different story youd course youd wait youre examined well healthy boy thats proof pudding im see otherwise wouldnt wasnt healthy young surely dont get healthy get older realize know see know old dont thirty well thirty years old born almost everything didnt probably computers thats one thing thats another thing otherwise almost everything want everything mean much mean absolutely everything see mean didnt uh flying call uh shuttles going moon think thirty years ago beginning develop think devil rush get moon couldnt see even yet couldnt waited little longer everything people want everything right away know reason mention great catastrophe happened recently know terrible terrible thing yes thats right long well tell couldnt tell streets full people people walking sidewalks werent even good sidewalks time make new ones make delancey street street business stores time thats end years went fixed everything built uh horse cars running delancey street see right middle street horse car finally abandoned gave made sort like walk people still know middle street still think still im sure maybe isnt dont know think think still wide street purposely way nice one main streets time see delancey street one main streets next one good shopping street grand street broome street residential see store stores delancey street every store business beginning end thing grand street also stores kept growing naturally became older saw things little different couple years course moved away didnt live time see used live moved broome street norfolk know moved around thats hard uh describe exactly simply moved finally moved williamsburg brooklyn see lived time fact lived long lived long time become citizen well wanted citizen united states thats didnt anything special uh special things came vote cannot vote youre citizen see mean uh actually uh came year able twentyone thats think twentyone eighteen isnt nineteen isnt necessary im telling go get citizen papers got thats ask questions write read well fortunately able read write laughs well thats huh dont remember special classes might class begin maybe maybe said done teacher would talk english right away might class get started get know get begin know might talk yiddish translate english little little catch get write things got write youve got read gradually thats part thats teachers job see teach uh see uh good boy went tell well could course wanted see wanted learn english see thats wouldnt go educational alliance knew spoke yiddish english better right thing tell better way ever hear well show well anyhow watch twice doesnt make difference ed asner managing editor editor managing editor son managing editor could see walk around mason goes name mason adams probably see see tv see hear hear commercials air see'"
      ]
     },
     "execution_count": 308,
     "metadata": {},
     "output_type": "execute_result"
    }
   ],
   "source": [
    "textclean"
   ]
  },
  {
   "cell_type": "code",
   "execution_count": null,
   "metadata": {
    "collapsed": true
   },
   "outputs": [],
   "source": []
  }
 ],
 "metadata": {
  "kernelspec": {
   "display_name": "Python 3",
   "language": "python",
   "name": "python3"
  },
  "language_info": {
   "codemirror_mode": {
    "name": "ipython",
    "version": 3
   },
   "file_extension": ".py",
   "mimetype": "text/x-python",
   "name": "python",
   "nbconvert_exporter": "python",
   "pygments_lexer": "ipython3",
   "version": "3.6.0"
  }
 },
 "nbformat": 4,
 "nbformat_minor": 2
}
