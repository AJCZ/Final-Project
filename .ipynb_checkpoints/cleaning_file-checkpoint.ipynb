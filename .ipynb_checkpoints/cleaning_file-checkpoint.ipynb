{
 "cells": [
  {
   "cell_type": "code",
   "execution_count": 62,
   "metadata": {
    "collapsed": false
   },
   "outputs": [
    {
     "name": "stdout",
     "output_type": "stream",
     "text": [
      "[nltk_data] Downloading package stopwords to\n",
      "[nltk_data]     /Users/zhangjiwei/nltk_data...\n",
      "[nltk_data]   Package stopwords is already up-to-date!\n"
     ]
    },
    {
     "data": {
      "text/plain": [
       "<function TextIOWrapper.close>"
      ]
     },
     "execution_count": 62,
     "metadata": {},
     "output_type": "execute_result"
    }
   ],
   "source": [
    "import os\n",
    "from cleanfile import *\n",
    "\n",
    "#read in interviewees' ID's and lastnames\n",
    "from xlrd import open_workbook\n",
    "workbook = open_workbook('keys.xls')\n",
    "sheet=workbook.sheets()[0]\n",
    "number_of_rows = sheet.nrows\n",
    "number_of_columns = sheet.ncols\n",
    "keys={}\n",
    "for i in range (0, number_of_rows):\n",
    "    keys[i+1]=sheet.cell(i,1).value.lower()\n",
    "#cleanedtext is a distionary containing all cleaned text\n",
    "cleanedtext={}\n",
    "#clean all transcripts and save disctionary\n",
    "files=os.listdir('Transcript')\n",
    "for i in range (1,len(files))\n",
    "    text=open('Transcript/'+files[i], 'r').read().lower()\n",
    "    interviewee=keys[int(files[i].split('.')[0])]\n",
    "    cleanedtext[int(files[i].split('.')[0])]=cleanfile(text,interviewee)"
   ]
  },
  {
   "cell_type": "code",
   "execution_count": null,
   "metadata": {
    "collapsed": true
   },
   "outputs": [],
   "source": []
  }
 ],
 "metadata": {
  "kernelspec": {
   "display_name": "Python 3",
   "language": "python",
   "name": "python3"
  },
  "language_info": {
   "codemirror_mode": {
    "name": "ipython",
    "version": 3
   },
   "file_extension": ".py",
   "mimetype": "text/x-python",
   "name": "python",
   "nbconvert_exporter": "python",
   "pygments_lexer": "ipython3",
   "version": "3.6.0"
  }
 },
 "nbformat": 4,
 "nbformat_minor": 2
}
